{
  "nbformat": 4,
  "nbformat_minor": 0,
  "metadata": {
    "colab": {
      "name": "WCS / WTI prices .ipynb",
      "provenance": [],
      "collapsed_sections": [
        "NQ_IKydkmFoq",
        "y7B-2pHg9rNn"
      ],
      "authorship_tag": "ABX9TyNJujyNxJSkurdKRjxoY2lF",
      "include_colab_link": true
    },
    "kernelspec": {
      "name": "python3",
      "display_name": "Python 3"
    }
  },
  "cells": [
    {
      "cell_type": "markdown",
      "metadata": {
        "id": "view-in-github",
        "colab_type": "text"
      },
      "source": [
        "<a href=\"https://colab.research.google.com/github/IjeomaOdoko/Federal-Debt-GDP-and-Oil-Prices/blob/master/WCS_WTI_prices_.ipynb\" target=\"_parent\"><img src=\"https://colab.research.google.com/assets/colab-badge.svg\" alt=\"Open In Colab\"/></a>"
      ]
    },
    {
      "cell_type": "markdown",
      "metadata": {
        "id": "9pA234r1jaO5",
        "colab_type": "text"
      },
      "source": [
        "Datasets used are as follows: \n",
        "\n",
        "WTI Source: U.S. Energy Information Administration (Jan 1986 to present). \n",
        "WCS Source: Alberta Energy (Jan 2009 to present) \n",
        "\n",
        "[Alberta Government - Economic DashBoard](https://economicdashboard.alberta.ca/OilPrice) "
      ]
    },
    {
      "cell_type": "markdown",
      "metadata": {
        "id": "zlySQojWjNpd",
        "colab_type": "text"
      },
      "source": [
        "# Import Libraries"
      ]
    },
    {
      "cell_type": "code",
      "metadata": {
        "id": "Dh-KgCqzXWJS",
        "colab_type": "code",
        "colab": {}
      },
      "source": [
        "import pandas as pd\n",
        "import numpy as np\n",
        "import matplotlib.pyplot as plt\n",
        "\n",
        "\n",
        "from google.colab import files\n"
      ],
      "execution_count": null,
      "outputs": []
    },
    {
      "cell_type": "markdown",
      "metadata": {
        "id": "7j1iP4o4Xyzt",
        "colab_type": "text"
      },
      "source": [
        "# Load Datasets"
      ]
    },
    {
      "cell_type": "code",
      "metadata": {
        "colab_type": "code",
        "id": "rYIMztVxXkFc",
        "colab": {
          "resources": {
            "http://localhost:8080/nbextensions/google.colab/files.js": {
              "data": "Ly8gQ29weXJpZ2h0IDIwMTcgR29vZ2xlIExMQwovLwovLyBMaWNlbnNlZCB1bmRlciB0aGUgQXBhY2hlIExpY2Vuc2UsIFZlcnNpb24gMi4wICh0aGUgIkxpY2Vuc2UiKTsKLy8geW91IG1heSBub3QgdXNlIHRoaXMgZmlsZSBleGNlcHQgaW4gY29tcGxpYW5jZSB3aXRoIHRoZSBMaWNlbnNlLgovLyBZb3UgbWF5IG9idGFpbiBhIGNvcHkgb2YgdGhlIExpY2Vuc2UgYXQKLy8KLy8gICAgICBodHRwOi8vd3d3LmFwYWNoZS5vcmcvbGljZW5zZXMvTElDRU5TRS0yLjAKLy8KLy8gVW5sZXNzIHJlcXVpcmVkIGJ5IGFwcGxpY2FibGUgbGF3IG9yIGFncmVlZCB0byBpbiB3cml0aW5nLCBzb2Z0d2FyZQovLyBkaXN0cmlidXRlZCB1bmRlciB0aGUgTGljZW5zZSBpcyBkaXN0cmlidXRlZCBvbiBhbiAiQVMgSVMiIEJBU0lTLAovLyBXSVRIT1VUIFdBUlJBTlRJRVMgT1IgQ09ORElUSU9OUyBPRiBBTlkgS0lORCwgZWl0aGVyIGV4cHJlc3Mgb3IgaW1wbGllZC4KLy8gU2VlIHRoZSBMaWNlbnNlIGZvciB0aGUgc3BlY2lmaWMgbGFuZ3VhZ2UgZ292ZXJuaW5nIHBlcm1pc3Npb25zIGFuZAovLyBsaW1pdGF0aW9ucyB1bmRlciB0aGUgTGljZW5zZS4KCi8qKgogKiBAZmlsZW92ZXJ2aWV3IEhlbHBlcnMgZm9yIGdvb2dsZS5jb2xhYiBQeXRob24gbW9kdWxlLgogKi8KKGZ1bmN0aW9uKHNjb3BlKSB7CmZ1bmN0aW9uIHNwYW4odGV4dCwgc3R5bGVBdHRyaWJ1dGVzID0ge30pIHsKICBjb25zdCBlbGVtZW50ID0gZG9jdW1lbnQuY3JlYXRlRWxlbWVudCgnc3BhbicpOwogIGVsZW1lbnQudGV4dENvbnRlbnQgPSB0ZXh0OwogIGZvciAoY29uc3Qga2V5IG9mIE9iamVjdC5rZXlzKHN0eWxlQXR0cmlidXRlcykpIHsKICAgIGVsZW1lbnQuc3R5bGVba2V5XSA9IHN0eWxlQXR0cmlidXRlc1trZXldOwogIH0KICByZXR1cm4gZWxlbWVudDsKfQoKLy8gTWF4IG51bWJlciBvZiBieXRlcyB3aGljaCB3aWxsIGJlIHVwbG9hZGVkIGF0IGEgdGltZS4KY29uc3QgTUFYX1BBWUxPQURfU0laRSA9IDEwMCAqIDEwMjQ7CgpmdW5jdGlvbiBfdXBsb2FkRmlsZXMoaW5wdXRJZCwgb3V0cHV0SWQpIHsKICBjb25zdCBzdGVwcyA9IHVwbG9hZEZpbGVzU3RlcChpbnB1dElkLCBvdXRwdXRJZCk7CiAgY29uc3Qgb3V0cHV0RWxlbWVudCA9IGRvY3VtZW50LmdldEVsZW1lbnRCeUlkKG91dHB1dElkKTsKICAvLyBDYWNoZSBzdGVwcyBvbiB0aGUgb3V0cHV0RWxlbWVudCB0byBtYWtlIGl0IGF2YWlsYWJsZSBmb3IgdGhlIG5leHQgY2FsbAogIC8vIHRvIHVwbG9hZEZpbGVzQ29udGludWUgZnJvbSBQeXRob24uCiAgb3V0cHV0RWxlbWVudC5zdGVwcyA9IHN0ZXBzOwoKICByZXR1cm4gX3VwbG9hZEZpbGVzQ29udGludWUob3V0cHV0SWQpOwp9CgovLyBUaGlzIGlzIHJvdWdobHkgYW4gYXN5bmMgZ2VuZXJhdG9yIChub3Qgc3VwcG9ydGVkIGluIHRoZSBicm93c2VyIHlldCksCi8vIHdoZXJlIHRoZXJlIGFyZSBtdWx0aXBsZSBhc3luY2hyb25vdXMgc3RlcHMgYW5kIHRoZSBQeXRob24gc2lkZSBpcyBnb2luZwovLyB0byBwb2xsIGZvciBjb21wbGV0aW9uIG9mIGVhY2ggc3RlcC4KLy8gVGhpcyB1c2VzIGEgUHJvbWlzZSB0byBibG9jayB0aGUgcHl0aG9uIHNpZGUgb24gY29tcGxldGlvbiBvZiBlYWNoIHN0ZXAsCi8vIHRoZW4gcGFzc2VzIHRoZSByZXN1bHQgb2YgdGhlIHByZXZpb3VzIHN0ZXAgYXMgdGhlIGlucHV0IHRvIHRoZSBuZXh0IHN0ZXAuCmZ1bmN0aW9uIF91cGxvYWRGaWxlc0NvbnRpbnVlKG91dHB1dElkKSB7CiAgY29uc3Qgb3V0cHV0RWxlbWVudCA9IGRvY3VtZW50LmdldEVsZW1lbnRCeUlkKG91dHB1dElkKTsKICBjb25zdCBzdGVwcyA9IG91dHB1dEVsZW1lbnQuc3RlcHM7CgogIGNvbnN0IG5leHQgPSBzdGVwcy5uZXh0KG91dHB1dEVsZW1lbnQubGFzdFByb21pc2VWYWx1ZSk7CiAgcmV0dXJuIFByb21pc2UucmVzb2x2ZShuZXh0LnZhbHVlLnByb21pc2UpLnRoZW4oKHZhbHVlKSA9PiB7CiAgICAvLyBDYWNoZSB0aGUgbGFzdCBwcm9taXNlIHZhbHVlIHRvIG1ha2UgaXQgYXZhaWxhYmxlIHRvIHRoZSBuZXh0CiAgICAvLyBzdGVwIG9mIHRoZSBnZW5lcmF0b3IuCiAgICBvdXRwdXRFbGVtZW50Lmxhc3RQcm9taXNlVmFsdWUgPSB2YWx1ZTsKICAgIHJldHVybiBuZXh0LnZhbHVlLnJlc3BvbnNlOwogIH0pOwp9CgovKioKICogR2VuZXJhdG9yIGZ1bmN0aW9uIHdoaWNoIGlzIGNhbGxlZCBiZXR3ZWVuIGVhY2ggYXN5bmMgc3RlcCBvZiB0aGUgdXBsb2FkCiAqIHByb2Nlc3MuCiAqIEBwYXJhbSB7c3RyaW5nfSBpbnB1dElkIEVsZW1lbnQgSUQgb2YgdGhlIGlucHV0IGZpbGUgcGlja2VyIGVsZW1lbnQuCiAqIEBwYXJhbSB7c3RyaW5nfSBvdXRwdXRJZCBFbGVtZW50IElEIG9mIHRoZSBvdXRwdXQgZGlzcGxheS4KICogQHJldHVybiB7IUl0ZXJhYmxlPCFPYmplY3Q+fSBJdGVyYWJsZSBvZiBuZXh0IHN0ZXBzLgogKi8KZnVuY3Rpb24qIHVwbG9hZEZpbGVzU3RlcChpbnB1dElkLCBvdXRwdXRJZCkgewogIGNvbnN0IGlucHV0RWxlbWVudCA9IGRvY3VtZW50LmdldEVsZW1lbnRCeUlkKGlucHV0SWQpOwogIGlucHV0RWxlbWVudC5kaXNhYmxlZCA9IGZhbHNlOwoKICBjb25zdCBvdXRwdXRFbGVtZW50ID0gZG9jdW1lbnQuZ2V0RWxlbWVudEJ5SWQob3V0cHV0SWQpOwogIG91dHB1dEVsZW1lbnQuaW5uZXJIVE1MID0gJyc7CgogIGNvbnN0IHBpY2tlZFByb21pc2UgPSBuZXcgUHJvbWlzZSgocmVzb2x2ZSkgPT4gewogICAgaW5wdXRFbGVtZW50LmFkZEV2ZW50TGlzdGVuZXIoJ2NoYW5nZScsIChlKSA9PiB7CiAgICAgIHJlc29sdmUoZS50YXJnZXQuZmlsZXMpOwogICAgfSk7CiAgfSk7CgogIGNvbnN0IGNhbmNlbCA9IGRvY3VtZW50LmNyZWF0ZUVsZW1lbnQoJ2J1dHRvbicpOwogIGlucHV0RWxlbWVudC5wYXJlbnRFbGVtZW50LmFwcGVuZENoaWxkKGNhbmNlbCk7CiAgY2FuY2VsLnRleHRDb250ZW50ID0gJ0NhbmNlbCB1cGxvYWQnOwogIGNvbnN0IGNhbmNlbFByb21pc2UgPSBuZXcgUHJvbWlzZSgocmVzb2x2ZSkgPT4gewogICAgY2FuY2VsLm9uY2xpY2sgPSAoKSA9PiB7CiAgICAgIHJlc29sdmUobnVsbCk7CiAgICB9OwogIH0pOwoKICAvLyBXYWl0IGZvciB0aGUgdXNlciB0byBwaWNrIHRoZSBmaWxlcy4KICBjb25zdCBmaWxlcyA9IHlpZWxkIHsKICAgIHByb21pc2U6IFByb21pc2UucmFjZShbcGlja2VkUHJvbWlzZSwgY2FuY2VsUHJvbWlzZV0pLAogICAgcmVzcG9uc2U6IHsKICAgICAgYWN0aW9uOiAnc3RhcnRpbmcnLAogICAgfQogIH07CgogIGNhbmNlbC5yZW1vdmUoKTsKCiAgLy8gRGlzYWJsZSB0aGUgaW5wdXQgZWxlbWVudCBzaW5jZSBmdXJ0aGVyIHBpY2tzIGFyZSBub3QgYWxsb3dlZC4KICBpbnB1dEVsZW1lbnQuZGlzYWJsZWQgPSB0cnVlOwoKICBpZiAoIWZpbGVzKSB7CiAgICByZXR1cm4gewogICAgICByZXNwb25zZTogewogICAgICAgIGFjdGlvbjogJ2NvbXBsZXRlJywKICAgICAgfQogICAgfTsKICB9CgogIGZvciAoY29uc3QgZmlsZSBvZiBmaWxlcykgewogICAgY29uc3QgbGkgPSBkb2N1bWVudC5jcmVhdGVFbGVtZW50KCdsaScpOwogICAgbGkuYXBwZW5kKHNwYW4oZmlsZS5uYW1lLCB7Zm9udFdlaWdodDogJ2JvbGQnfSkpOwogICAgbGkuYXBwZW5kKHNwYW4oCiAgICAgICAgYCgke2ZpbGUudHlwZSB8fCAnbi9hJ30pIC0gJHtmaWxlLnNpemV9IGJ5dGVzLCBgICsKICAgICAgICBgbGFzdCBtb2RpZmllZDogJHsKICAgICAgICAgICAgZmlsZS5sYXN0TW9kaWZpZWREYXRlID8gZmlsZS5sYXN0TW9kaWZpZWREYXRlLnRvTG9jYWxlRGF0ZVN0cmluZygpIDoKICAgICAgICAgICAgICAgICAgICAgICAgICAgICAgICAgICAgJ24vYSd9IC0gYCkpOwogICAgY29uc3QgcGVyY2VudCA9IHNwYW4oJzAlIGRvbmUnKTsKICAgIGxpLmFwcGVuZENoaWxkKHBlcmNlbnQpOwoKICAgIG91dHB1dEVsZW1lbnQuYXBwZW5kQ2hpbGQobGkpOwoKICAgIGNvbnN0IGZpbGVEYXRhUHJvbWlzZSA9IG5ldyBQcm9taXNlKChyZXNvbHZlKSA9PiB7CiAgICAgIGNvbnN0IHJlYWRlciA9IG5ldyBGaWxlUmVhZGVyKCk7CiAgICAgIHJlYWRlci5vbmxvYWQgPSAoZSkgPT4gewogICAgICAgIHJlc29sdmUoZS50YXJnZXQucmVzdWx0KTsKICAgICAgfTsKICAgICAgcmVhZGVyLnJlYWRBc0FycmF5QnVmZmVyKGZpbGUpOwogICAgfSk7CiAgICAvLyBXYWl0IGZvciB0aGUgZGF0YSB0byBiZSByZWFkeS4KICAgIGxldCBmaWxlRGF0YSA9IHlpZWxkIHsKICAgICAgcHJvbWlzZTogZmlsZURhdGFQcm9taXNlLAogICAgICByZXNwb25zZTogewogICAgICAgIGFjdGlvbjogJ2NvbnRpbnVlJywKICAgICAgfQogICAgfTsKCiAgICAvLyBVc2UgYSBjaHVua2VkIHNlbmRpbmcgdG8gYXZvaWQgbWVzc2FnZSBzaXplIGxpbWl0cy4gU2VlIGIvNjIxMTU2NjAuCiAgICBsZXQgcG9zaXRpb24gPSAwOwogICAgd2hpbGUgKHBvc2l0aW9uIDwgZmlsZURhdGEuYnl0ZUxlbmd0aCkgewogICAgICBjb25zdCBsZW5ndGggPSBNYXRoLm1pbihmaWxlRGF0YS5ieXRlTGVuZ3RoIC0gcG9zaXRpb24sIE1BWF9QQVlMT0FEX1NJWkUpOwogICAgICBjb25zdCBjaHVuayA9IG5ldyBVaW50OEFycmF5KGZpbGVEYXRhLCBwb3NpdGlvbiwgbGVuZ3RoKTsKICAgICAgcG9zaXRpb24gKz0gbGVuZ3RoOwoKICAgICAgY29uc3QgYmFzZTY0ID0gYnRvYShTdHJpbmcuZnJvbUNoYXJDb2RlLmFwcGx5KG51bGwsIGNodW5rKSk7CiAgICAgIHlpZWxkIHsKICAgICAgICByZXNwb25zZTogewogICAgICAgICAgYWN0aW9uOiAnYXBwZW5kJywKICAgICAgICAgIGZpbGU6IGZpbGUubmFtZSwKICAgICAgICAgIGRhdGE6IGJhc2U2NCwKICAgICAgICB9LAogICAgICB9OwogICAgICBwZXJjZW50LnRleHRDb250ZW50ID0KICAgICAgICAgIGAke01hdGgucm91bmQoKHBvc2l0aW9uIC8gZmlsZURhdGEuYnl0ZUxlbmd0aCkgKiAxMDApfSUgZG9uZWA7CiAgICB9CiAgfQoKICAvLyBBbGwgZG9uZS4KICB5aWVsZCB7CiAgICByZXNwb25zZTogewogICAgICBhY3Rpb246ICdjb21wbGV0ZScsCiAgICB9CiAgfTsKfQoKc2NvcGUuZ29vZ2xlID0gc2NvcGUuZ29vZ2xlIHx8IHt9OwpzY29wZS5nb29nbGUuY29sYWIgPSBzY29wZS5nb29nbGUuY29sYWIgfHwge307CnNjb3BlLmdvb2dsZS5jb2xhYi5fZmlsZXMgPSB7CiAgX3VwbG9hZEZpbGVzLAogIF91cGxvYWRGaWxlc0NvbnRpbnVlLAp9Owp9KShzZWxmKTsK",
              "ok": true,
              "headers": [
                [
                  "content-type",
                  "application/javascript"
                ]
              ],
              "status": 200,
              "status_text": ""
            }
          },
          "base_uri": "https://localhost:8080/",
          "height": 73
        },
        "outputId": "4ee3e6cb-dc33-40eb-9df7-713f6029ae19"
      },
      "source": [
        "uploaded = files.upload()"
      ],
      "execution_count": null,
      "outputs": [
        {
          "output_type": "display_data",
          "data": {
            "text/html": [
              "\n",
              "     <input type=\"file\" id=\"files-6bb9da6e-32b6-4166-87d8-00de55b1ea24\" name=\"files[]\" multiple disabled\n",
              "        style=\"border:none\" />\n",
              "     <output id=\"result-6bb9da6e-32b6-4166-87d8-00de55b1ea24\">\n",
              "      Upload widget is only available when the cell has been executed in the\n",
              "      current browser session. Please rerun this cell to enable.\n",
              "      </output>\n",
              "      <script src=\"/nbextensions/google.colab/files.js\"></script> "
            ],
            "text/plain": [
              "<IPython.core.display.HTML object>"
            ]
          },
          "metadata": {
            "tags": []
          }
        },
        {
          "output_type": "stream",
          "text": [
            "Saving download.csv to download.csv\n"
          ],
          "name": "stdout"
        }
      ]
    },
    {
      "cell_type": "code",
      "metadata": {
        "id": "ZTct5nL1X7NX",
        "colab_type": "code",
        "colab": {}
      },
      "source": [
        "import io\n",
        "\n",
        "wti_wcs_prices= pd.read_csv(io.StringIO(uploaded['download.csv'].decode('utf-8')), header=0, parse_dates=['When', 'ModifiedDate'])"
      ],
      "execution_count": null,
      "outputs": []
    },
    {
      "cell_type": "markdown",
      "metadata": {
        "id": "oSFReo4jZ4KM",
        "colab_type": "text"
      },
      "source": [
        "# Explore and Transform WTI_WCS prices Dataset "
      ]
    },
    {
      "cell_type": "code",
      "metadata": {
        "id": "EPFYjlPnZziS",
        "colab_type": "code",
        "colab": {
          "base_uri": "https://localhost:8080/",
          "height": 197
        },
        "outputId": "8c14a4a6-82ba-4d97-f97c-25e8ee818160"
      },
      "source": [
        "wti_wcs_prices.head()"
      ],
      "execution_count": null,
      "outputs": [
        {
          "output_type": "execute_result",
          "data": {
            "text/html": [
              "<div>\n",
              "<style scoped>\n",
              "    .dataframe tbody tr th:only-of-type {\n",
              "        vertical-align: middle;\n",
              "    }\n",
              "\n",
              "    .dataframe tbody tr th {\n",
              "        vertical-align: top;\n",
              "    }\n",
              "\n",
              "    .dataframe thead th {\n",
              "        text-align: right;\n",
              "    }\n",
              "</style>\n",
              "<table border=\"1\" class=\"dataframe\">\n",
              "  <thead>\n",
              "    <tr style=\"text-align: right;\">\n",
              "      <th></th>\n",
              "      <th>Id</th>\n",
              "      <th>When</th>\n",
              "      <th>Type</th>\n",
              "      <th>Unit</th>\n",
              "      <th>Alberta</th>\n",
              "      <th>ModifiedDate</th>\n",
              "    </tr>\n",
              "  </thead>\n",
              "  <tbody>\n",
              "    <tr>\n",
              "      <th>0</th>\n",
              "      <td>138641</td>\n",
              "      <td>1983-04-01</td>\n",
              "      <td>WTI</td>\n",
              "      <td>$US/bbl</td>\n",
              "      <td>30.50</td>\n",
              "      <td>2020-08-25 07:56:57</td>\n",
              "    </tr>\n",
              "    <tr>\n",
              "      <th>1</th>\n",
              "      <td>138642</td>\n",
              "      <td>1983-05-01</td>\n",
              "      <td>WTI</td>\n",
              "      <td>$US/bbl</td>\n",
              "      <td>30.16</td>\n",
              "      <td>2020-08-25 07:56:57</td>\n",
              "    </tr>\n",
              "    <tr>\n",
              "      <th>2</th>\n",
              "      <td>138643</td>\n",
              "      <td>1983-06-01</td>\n",
              "      <td>WTI</td>\n",
              "      <td>$US/bbl</td>\n",
              "      <td>30.96</td>\n",
              "      <td>2020-08-25 07:56:57</td>\n",
              "    </tr>\n",
              "    <tr>\n",
              "      <th>3</th>\n",
              "      <td>138644</td>\n",
              "      <td>1983-07-01</td>\n",
              "      <td>WTI</td>\n",
              "      <td>$US/bbl</td>\n",
              "      <td>31.59</td>\n",
              "      <td>2020-08-25 07:56:57</td>\n",
              "    </tr>\n",
              "    <tr>\n",
              "      <th>4</th>\n",
              "      <td>138645</td>\n",
              "      <td>1983-08-01</td>\n",
              "      <td>WTI</td>\n",
              "      <td>$US/bbl</td>\n",
              "      <td>31.88</td>\n",
              "      <td>2020-08-25 07:56:57</td>\n",
              "    </tr>\n",
              "  </tbody>\n",
              "</table>\n",
              "</div>"
            ],
            "text/plain": [
              "       Id       When Type     Unit  Alberta        ModifiedDate\n",
              "0  138641 1983-04-01  WTI  $US/bbl    30.50 2020-08-25 07:56:57\n",
              "1  138642 1983-05-01  WTI  $US/bbl    30.16 2020-08-25 07:56:57\n",
              "2  138643 1983-06-01  WTI  $US/bbl    30.96 2020-08-25 07:56:57\n",
              "3  138644 1983-07-01  WTI  $US/bbl    31.59 2020-08-25 07:56:57\n",
              "4  138645 1983-08-01  WTI  $US/bbl    31.88 2020-08-25 07:56:57"
            ]
          },
          "metadata": {
            "tags": []
          },
          "execution_count": 51
        }
      ]
    },
    {
      "cell_type": "code",
      "metadata": {
        "id": "6v5-qwYzrijL",
        "colab_type": "code",
        "colab": {
          "base_uri": "https://localhost:8080/",
          "height": 247
        },
        "outputId": "2e5c28e7-cc77-4105-9fac-656b8685bd17"
      },
      "source": [
        "   wti_wcs_prices.info()"
      ],
      "execution_count": null,
      "outputs": [
        {
          "output_type": "stream",
          "text": [
            "<class 'pandas.core.frame.DataFrame'>\n",
            "RangeIndex: 1025 entries, 0 to 1024\n",
            "Data columns (total 6 columns):\n",
            " #   Column        Non-Null Count  Dtype         \n",
            "---  ------        --------------  -----         \n",
            " 0   Id            1025 non-null   int64         \n",
            " 1   When          1025 non-null   datetime64[ns]\n",
            " 2   Type          1025 non-null   object        \n",
            " 3   Unit          1025 non-null   object        \n",
            " 4   Alberta       1025 non-null   float64       \n",
            " 5   ModifiedDate  1025 non-null   datetime64[ns]\n",
            "dtypes: datetime64[ns](2), float64(1), int64(1), object(2)\n",
            "memory usage: 48.2+ KB\n"
          ],
          "name": "stdout"
        }
      ]
    },
    {
      "cell_type": "code",
      "metadata": {
        "id": "VSSB3NrE07ce",
        "colab_type": "code",
        "colab": {
          "base_uri": "https://localhost:8080/",
          "height": 87
        },
        "outputId": "b55402bf-7a0c-4c41-a432-7209b30e7628"
      },
      "source": [
        "# check unique values for the objects \n",
        "print(wti_wcs_prices['Type'].unique())\n",
        "\n",
        "print('\\n')\n",
        "\n",
        "print(wti_wcs_prices['Unit'].unique())"
      ],
      "execution_count": null,
      "outputs": [
        {
          "output_type": "stream",
          "text": [
            "['WTI' 'WCS' 'NatGas']\n",
            "\n",
            "\n",
            "['$US/bbl' '$CDN/GJ']\n"
          ],
          "name": "stdout"
        }
      ]
    },
    {
      "cell_type": "code",
      "metadata": {
        "id": "TEgbA3SI8aha",
        "colab_type": "code",
        "colab": {
          "base_uri": "https://localhost:8080/",
          "height": 283
        },
        "outputId": "5f86c255-bd46-4f4e-eb3c-1adae430b447"
      },
      "source": [
        "# add month and Year columns \n",
        "\n",
        "wti_wcs_prices['Year'] = wti_wcs_prices['When'].dt.year\n",
        "wti_wcs_prices['Month'] = wti_wcs_prices['When'].dt.month\n",
        "\n",
        "wti_wcs_prices.info()"
      ],
      "execution_count": null,
      "outputs": [
        {
          "output_type": "stream",
          "text": [
            "<class 'pandas.core.frame.DataFrame'>\n",
            "RangeIndex: 1025 entries, 0 to 1024\n",
            "Data columns (total 8 columns):\n",
            " #   Column        Non-Null Count  Dtype         \n",
            "---  ------        --------------  -----         \n",
            " 0   Id            1025 non-null   int64         \n",
            " 1   When          1025 non-null   datetime64[ns]\n",
            " 2   Type          1025 non-null   object        \n",
            " 3   Unit          1025 non-null   object        \n",
            " 4   Alberta       1025 non-null   float64       \n",
            " 5   ModifiedDate  1025 non-null   datetime64[ns]\n",
            " 6   Year          1025 non-null   int64         \n",
            " 7   Month         1025 non-null   int64         \n",
            "dtypes: datetime64[ns](2), float64(1), int64(3), object(2)\n",
            "memory usage: 64.2+ KB\n"
          ],
          "name": "stdout"
        }
      ]
    },
    {
      "cell_type": "code",
      "metadata": {
        "id": "HT4PjwntaCND",
        "colab_type": "code",
        "colab": {}
      },
      "source": [
        "# create dataframe from unique value for type\n",
        "\n",
        "def create_new_frame(type):\n",
        "  x = wti_wcs_prices.loc[wti_wcs_prices['Type']==type].drop(columns='ModifiedDate').rename(columns={'When': 'Date', 'Alberta':'Price'})\n",
        "  return x"
      ],
      "execution_count": null,
      "outputs": []
    },
    {
      "cell_type": "code",
      "metadata": {
        "id": "fELxGGXm2wqh",
        "colab_type": "code",
        "colab": {
          "base_uri": "https://localhost:8080/",
          "height": 553
        },
        "outputId": "984fb3d6-e6f3-4e69-aacb-aa065ca97771"
      },
      "source": [
        "# create dataframe for WTI prices and explore data \n",
        "\n",
        "WTI_prices = create_new_frame('WTI')\n",
        "\n",
        "display(WTI_prices.head())\n",
        "print('\\n')\n",
        "print(WTI_prices.info())\n",
        "print('\\n')\n",
        "print(WTI_prices['Unit'].unique())\n"
      ],
      "execution_count": null,
      "outputs": [
        {
          "output_type": "display_data",
          "data": {
            "text/html": [
              "<div>\n",
              "<style scoped>\n",
              "    .dataframe tbody tr th:only-of-type {\n",
              "        vertical-align: middle;\n",
              "    }\n",
              "\n",
              "    .dataframe tbody tr th {\n",
              "        vertical-align: top;\n",
              "    }\n",
              "\n",
              "    .dataframe thead th {\n",
              "        text-align: right;\n",
              "    }\n",
              "</style>\n",
              "<table border=\"1\" class=\"dataframe\">\n",
              "  <thead>\n",
              "    <tr style=\"text-align: right;\">\n",
              "      <th></th>\n",
              "      <th>Id</th>\n",
              "      <th>Date</th>\n",
              "      <th>Type</th>\n",
              "      <th>Unit</th>\n",
              "      <th>Price</th>\n",
              "      <th>Year</th>\n",
              "      <th>Month</th>\n",
              "    </tr>\n",
              "  </thead>\n",
              "  <tbody>\n",
              "    <tr>\n",
              "      <th>0</th>\n",
              "      <td>138641</td>\n",
              "      <td>1983-04-01</td>\n",
              "      <td>WTI</td>\n",
              "      <td>$US/bbl</td>\n",
              "      <td>30.50</td>\n",
              "      <td>1983</td>\n",
              "      <td>4</td>\n",
              "    </tr>\n",
              "    <tr>\n",
              "      <th>1</th>\n",
              "      <td>138642</td>\n",
              "      <td>1983-05-01</td>\n",
              "      <td>WTI</td>\n",
              "      <td>$US/bbl</td>\n",
              "      <td>30.16</td>\n",
              "      <td>1983</td>\n",
              "      <td>5</td>\n",
              "    </tr>\n",
              "    <tr>\n",
              "      <th>2</th>\n",
              "      <td>138643</td>\n",
              "      <td>1983-06-01</td>\n",
              "      <td>WTI</td>\n",
              "      <td>$US/bbl</td>\n",
              "      <td>30.96</td>\n",
              "      <td>1983</td>\n",
              "      <td>6</td>\n",
              "    </tr>\n",
              "    <tr>\n",
              "      <th>3</th>\n",
              "      <td>138644</td>\n",
              "      <td>1983-07-01</td>\n",
              "      <td>WTI</td>\n",
              "      <td>$US/bbl</td>\n",
              "      <td>31.59</td>\n",
              "      <td>1983</td>\n",
              "      <td>7</td>\n",
              "    </tr>\n",
              "    <tr>\n",
              "      <th>4</th>\n",
              "      <td>138645</td>\n",
              "      <td>1983-08-01</td>\n",
              "      <td>WTI</td>\n",
              "      <td>$US/bbl</td>\n",
              "      <td>31.88</td>\n",
              "      <td>1983</td>\n",
              "      <td>8</td>\n",
              "    </tr>\n",
              "  </tbody>\n",
              "</table>\n",
              "</div>"
            ],
            "text/plain": [
              "       Id       Date Type     Unit  Price  Year  Month\n",
              "0  138641 1983-04-01  WTI  $US/bbl  30.50  1983      4\n",
              "1  138642 1983-05-01  WTI  $US/bbl  30.16  1983      5\n",
              "2  138643 1983-06-01  WTI  $US/bbl  30.96  1983      6\n",
              "3  138644 1983-07-01  WTI  $US/bbl  31.59  1983      7\n",
              "4  138645 1983-08-01  WTI  $US/bbl  31.88  1983      8"
            ]
          },
          "metadata": {
            "tags": []
          }
        },
        {
          "output_type": "stream",
          "text": [
            "\n",
            "\n",
            "<class 'pandas.core.frame.DataFrame'>\n",
            "Int64Index: 448 entries, 0 to 1023\n",
            "Data columns (total 7 columns):\n",
            " #   Column  Non-Null Count  Dtype         \n",
            "---  ------  --------------  -----         \n",
            " 0   Id      448 non-null    int64         \n",
            " 1   Date    448 non-null    datetime64[ns]\n",
            " 2   Type    448 non-null    object        \n",
            " 3   Unit    448 non-null    object        \n",
            " 4   Price   448 non-null    float64       \n",
            " 5   Year    448 non-null    int64         \n",
            " 6   Month   448 non-null    int64         \n",
            "dtypes: datetime64[ns](1), float64(1), int64(3), object(2)\n",
            "memory usage: 28.0+ KB\n",
            "None\n",
            "\n",
            "\n",
            "['$US/bbl']\n"
          ],
          "name": "stdout"
        }
      ]
    },
    {
      "cell_type": "code",
      "metadata": {
        "id": "8tCrGDKR4dgL",
        "colab_type": "code",
        "colab": {
          "base_uri": "https://localhost:8080/",
          "height": 283
        },
        "outputId": "e2e1da7d-47c2-4eb1-9c48-e0fa8a47fa28"
      },
      "source": [
        "WTI_prices.plot(kind='line', x='Date', y='Price')\n",
        "plt.show()"
      ],
      "execution_count": null,
      "outputs": [
        {
          "output_type": "display_data",
          "data": {
            "image/png": "[encoded data removed]",
            "text/plain": [
              "<Figure size 432x288 with 1 Axes>"
            ]
          },
          "metadata": {
            "tags": [],
            "needs_background": "light"
          }
        }
      ]
    },
    {
      "cell_type": "code",
      "metadata": {
        "colab_type": "code",
        "id": "KHy4T-8S31u2",
        "colab": {
          "base_uri": "https://localhost:8080/",
          "height": 553
        },
        "outputId": "89452e39-bfd8-45cc-e109-222339440c8a"
      },
      "source": [
        "# create dataframe for WCS prices and explore data \n",
        "\n",
        "WCS_prices = create_new_frame('WCS')\n",
        "\n",
        "display(WCS_prices.head())\n",
        "print('\\n')\n",
        "print(WCS_prices.info())\n",
        "print('\\n')\n",
        "print(WCS_prices['Unit'].unique())"
      ],
      "execution_count": null,
      "outputs": [
        {
          "output_type": "display_data",
          "data": {
            "text/html": [
              "<div>\n",
              "<style scoped>\n",
              "    .dataframe tbody tr th:only-of-type {\n",
              "        vertical-align: middle;\n",
              "    }\n",
              "\n",
              "    .dataframe tbody tr th {\n",
              "        vertical-align: top;\n",
              "    }\n",
              "\n",
              "    .dataframe thead th {\n",
              "        text-align: right;\n",
              "    }\n",
              "</style>\n",
              "<table border=\"1\" class=\"dataframe\">\n",
              "  <thead>\n",
              "    <tr style=\"text-align: right;\">\n",
              "      <th></th>\n",
              "      <th>Id</th>\n",
              "      <th>Date</th>\n",
              "      <th>Type</th>\n",
              "      <th>Unit</th>\n",
              "      <th>Price</th>\n",
              "      <th>Year</th>\n",
              "      <th>Month</th>\n",
              "    </tr>\n",
              "  </thead>\n",
              "  <tbody>\n",
              "    <tr>\n",
              "      <th>443</th>\n",
              "      <td>139084</td>\n",
              "      <td>2005-01-01</td>\n",
              "      <td>WCS</td>\n",
              "      <td>$US/bbl</td>\n",
              "      <td>29.42</td>\n",
              "      <td>2005</td>\n",
              "      <td>1</td>\n",
              "    </tr>\n",
              "    <tr>\n",
              "      <th>444</th>\n",
              "      <td>139085</td>\n",
              "      <td>2005-02-01</td>\n",
              "      <td>WCS</td>\n",
              "      <td>$US/bbl</td>\n",
              "      <td>28.44</td>\n",
              "      <td>2005</td>\n",
              "      <td>2</td>\n",
              "    </tr>\n",
              "    <tr>\n",
              "      <th>445</th>\n",
              "      <td>139086</td>\n",
              "      <td>2005-03-01</td>\n",
              "      <td>WCS</td>\n",
              "      <td>$US/bbl</td>\n",
              "      <td>36.50</td>\n",
              "      <td>2005</td>\n",
              "      <td>3</td>\n",
              "    </tr>\n",
              "    <tr>\n",
              "      <th>446</th>\n",
              "      <td>139087</td>\n",
              "      <td>2005-04-01</td>\n",
              "      <td>WCS</td>\n",
              "      <td>$US/bbl</td>\n",
              "      <td>31.02</td>\n",
              "      <td>2005</td>\n",
              "      <td>4</td>\n",
              "    </tr>\n",
              "    <tr>\n",
              "      <th>447</th>\n",
              "      <td>139088</td>\n",
              "      <td>2005-05-01</td>\n",
              "      <td>WCS</td>\n",
              "      <td>$US/bbl</td>\n",
              "      <td>27.46</td>\n",
              "      <td>2005</td>\n",
              "      <td>5</td>\n",
              "    </tr>\n",
              "  </tbody>\n",
              "</table>\n",
              "</div>"
            ],
            "text/plain": [
              "         Id       Date Type     Unit  Price  Year  Month\n",
              "443  139084 2005-01-01  WCS  $US/bbl  29.42  2005      1\n",
              "444  139085 2005-02-01  WCS  $US/bbl  28.44  2005      2\n",
              "445  139086 2005-03-01  WCS  $US/bbl  36.50  2005      3\n",
              "446  139087 2005-04-01  WCS  $US/bbl  31.02  2005      4\n",
              "447  139088 2005-05-01  WCS  $US/bbl  27.46  2005      5"
            ]
          },
          "metadata": {
            "tags": []
          }
        },
        {
          "output_type": "stream",
          "text": [
            "\n",
            "\n",
            "<class 'pandas.core.frame.DataFrame'>\n",
            "Int64Index: 187 entries, 443 to 1022\n",
            "Data columns (total 7 columns):\n",
            " #   Column  Non-Null Count  Dtype         \n",
            "---  ------  --------------  -----         \n",
            " 0   Id      187 non-null    int64         \n",
            " 1   Date    187 non-null    datetime64[ns]\n",
            " 2   Type    187 non-null    object        \n",
            " 3   Unit    187 non-null    object        \n",
            " 4   Price   187 non-null    float64       \n",
            " 5   Year    187 non-null    int64         \n",
            " 6   Month   187 non-null    int64         \n",
            "dtypes: datetime64[ns](1), float64(1), int64(3), object(2)\n",
            "memory usage: 11.7+ KB\n",
            "None\n",
            "\n",
            "\n",
            "['$US/bbl']\n"
          ],
          "name": "stdout"
        }
      ]
    },
    {
      "cell_type": "code",
      "metadata": {
        "id": "8biRCKQd5n8s",
        "colab_type": "code",
        "colab": {
          "base_uri": "https://localhost:8080/",
          "height": 282
        },
        "outputId": "57b4ad56-64e8-4ef7-d938-7c9fdf5b1041"
      },
      "source": [
        "WCS_prices.plot(kind='line', x='Date', y='Price')\n",
        "plt.show()"
      ],
      "execution_count": null,
      "outputs": [
        {
          "output_type": "display_data",
          "data": {
            "image/png": "[encoded data removed]",
            "text/plain": [
              "<Figure size 432x288 with 1 Axes>"
            ]
          },
          "metadata": {
            "tags": [],
            "needs_background": "light"
          }
        }
      ]
    },
    {
      "cell_type": "code",
      "metadata": {
        "id": "aJUdDtDaaHQD",
        "colab_type": "code",
        "colab": {
          "base_uri": "https://localhost:8080/",
          "height": 553
        },
        "outputId": "7307e273-0e09-43db-df8c-6f07a643fb5e"
      },
      "source": [
        "# create dataframe for NatGas prices and explore data \n",
        "\n",
        "NatGas_prices = create_new_frame('NatGas')\n",
        "\n",
        "display(NatGas_prices.head())\n",
        "print('\\n')\n",
        "print(NatGas_prices.info())\n",
        "print('\\n')\n",
        "print(NatGas_prices['Unit'].unique())"
      ],
      "execution_count": null,
      "outputs": [
        {
          "output_type": "display_data",
          "data": {
            "text/html": [
              "<div>\n",
              "<style scoped>\n",
              "    .dataframe tbody tr th:only-of-type {\n",
              "        vertical-align: middle;\n",
              "    }\n",
              "\n",
              "    .dataframe tbody tr th {\n",
              "        vertical-align: top;\n",
              "    }\n",
              "\n",
              "    .dataframe thead th {\n",
              "        text-align: right;\n",
              "    }\n",
              "</style>\n",
              "<table border=\"1\" class=\"dataframe\">\n",
              "  <thead>\n",
              "    <tr style=\"text-align: right;\">\n",
              "      <th></th>\n",
              "      <th>Id</th>\n",
              "      <th>Date</th>\n",
              "      <th>Type</th>\n",
              "      <th>Unit</th>\n",
              "      <th>Price</th>\n",
              "      <th>Year</th>\n",
              "      <th>Month</th>\n",
              "    </tr>\n",
              "  </thead>\n",
              "  <tbody>\n",
              "    <tr>\n",
              "      <th>625</th>\n",
              "      <td>139266</td>\n",
              "      <td>1988-01-01</td>\n",
              "      <td>NatGas</td>\n",
              "      <td>$CDN/GJ</td>\n",
              "      <td>1.56</td>\n",
              "      <td>1988</td>\n",
              "      <td>1</td>\n",
              "    </tr>\n",
              "    <tr>\n",
              "      <th>626</th>\n",
              "      <td>139267</td>\n",
              "      <td>1988-02-01</td>\n",
              "      <td>NatGas</td>\n",
              "      <td>$CDN/GJ</td>\n",
              "      <td>1.63</td>\n",
              "      <td>1988</td>\n",
              "      <td>2</td>\n",
              "    </tr>\n",
              "    <tr>\n",
              "      <th>627</th>\n",
              "      <td>139268</td>\n",
              "      <td>1988-03-01</td>\n",
              "      <td>NatGas</td>\n",
              "      <td>$CDN/GJ</td>\n",
              "      <td>1.60</td>\n",
              "      <td>1988</td>\n",
              "      <td>3</td>\n",
              "    </tr>\n",
              "    <tr>\n",
              "      <th>628</th>\n",
              "      <td>139269</td>\n",
              "      <td>1988-04-01</td>\n",
              "      <td>NatGas</td>\n",
              "      <td>$CDN/GJ</td>\n",
              "      <td>1.53</td>\n",
              "      <td>1988</td>\n",
              "      <td>4</td>\n",
              "    </tr>\n",
              "    <tr>\n",
              "      <th>629</th>\n",
              "      <td>139270</td>\n",
              "      <td>1988-05-01</td>\n",
              "      <td>NatGas</td>\n",
              "      <td>$CDN/GJ</td>\n",
              "      <td>1.48</td>\n",
              "      <td>1988</td>\n",
              "      <td>5</td>\n",
              "    </tr>\n",
              "  </tbody>\n",
              "</table>\n",
              "</div>"
            ],
            "text/plain": [
              "         Id       Date    Type     Unit  Price  Year  Month\n",
              "625  139266 1988-01-01  NatGas  $CDN/GJ   1.56  1988      1\n",
              "626  139267 1988-02-01  NatGas  $CDN/GJ   1.63  1988      2\n",
              "627  139268 1988-03-01  NatGas  $CDN/GJ   1.60  1988      3\n",
              "628  139269 1988-04-01  NatGas  $CDN/GJ   1.53  1988      4\n",
              "629  139270 1988-05-01  NatGas  $CDN/GJ   1.48  1988      5"
            ]
          },
          "metadata": {
            "tags": []
          }
        },
        {
          "output_type": "stream",
          "text": [
            "\n",
            "\n",
            "<class 'pandas.core.frame.DataFrame'>\n",
            "Int64Index: 390 entries, 625 to 1024\n",
            "Data columns (total 7 columns):\n",
            " #   Column  Non-Null Count  Dtype         \n",
            "---  ------  --------------  -----         \n",
            " 0   Id      390 non-null    int64         \n",
            " 1   Date    390 non-null    datetime64[ns]\n",
            " 2   Type    390 non-null    object        \n",
            " 3   Unit    390 non-null    object        \n",
            " 4   Price   390 non-null    float64       \n",
            " 5   Year    390 non-null    int64         \n",
            " 6   Month   390 non-null    int64         \n",
            "dtypes: datetime64[ns](1), float64(1), int64(3), object(2)\n",
            "memory usage: 24.4+ KB\n",
            "None\n",
            "\n",
            "\n",
            "['$CDN/GJ']\n"
          ],
          "name": "stdout"
        }
      ]
    },
    {
      "cell_type": "code",
      "metadata": {
        "id": "RU11Gj5-6QSZ",
        "colab_type": "code",
        "colab": {
          "base_uri": "https://localhost:8080/",
          "height": 278
        },
        "outputId": "e8695e04-a1bf-4405-c72b-19cdc747e4ab"
      },
      "source": [
        "NatGas_prices.plot(kind='line', x='Date', y='Price')\n",
        "plt.show()"
      ],
      "execution_count": null,
      "outputs": [
        {
          "output_type": "display_data",
          "data": {
            "image/png": "[encoded data removed]",
            "text/plain": [
              "<Figure size 432x288 with 1 Axes>"
            ]
          },
          "metadata": {
            "tags": [],
            "needs_background": "light"
          }
        }
      ]
    },
    {
      "cell_type": "markdown",
      "metadata": {
        "id": "uXYgGiCvTj1S",
        "colab_type": "text"
      },
      "source": [
        "# Rename, drop columns and Set index to Date for all datasets"
      ]
    },
    {
      "cell_type": "code",
      "metadata": {
        "id": "HtavFiimWxnh",
        "colab_type": "code",
        "colab": {
          "base_uri": "https://localhost:8080/",
          "height": 158
        },
        "outputId": "f6e874f7-e173-414c-e7b2-eee4b589cfc1"
      },
      "source": [
        "NatGas_prices = NatGas_prices.rename(columns={'Price': 'NatGas_Price($CDN/GJ)'}).drop(columns=['Type', 'Unit', 'Id', 'Month', 'Year']).set_index('Date')\n",
        "\n",
        "NatGas_prices.info()"
      ],
      "execution_count": null,
      "outputs": [
        {
          "output_type": "stream",
          "text": [
            "<class 'pandas.core.frame.DataFrame'>\n",
            "DatetimeIndex: 390 entries, 1988-01-01 to 2020-06-01\n",
            "Data columns (total 1 columns):\n",
            " #   Column                 Non-Null Count  Dtype  \n",
            "---  ------                 --------------  -----  \n",
            " 0   NatGas_Price($CDN/GJ)  390 non-null    float64\n",
            "dtypes: float64(1)\n",
            "memory usage: 6.1 KB\n"
          ],
          "name": "stdout"
        }
      ]
    },
    {
      "cell_type": "code",
      "metadata": {
        "id": "C4aEOXp5ZIuD",
        "colab_type": "code",
        "colab": {}
      },
      "source": [
        "WTI_prices = WTI_prices.rename(columns={'Price': 'WTI_Price($US/bbl)'}).drop(columns=['Type', 'Unit', 'Id', 'Month', 'Year']).set_index('Date')\n",
        "WCS_prices = WCS_prices.rename(columns={'Price': 'WCS_Price($US/bbl)'}).drop(columns=['Type', 'Unit','Id', 'Month', 'Year']).set_index('Date')"
      ],
      "execution_count": null,
      "outputs": []
    },
    {
      "cell_type": "markdown",
      "metadata": {
        "id": "T9wfq_fZ6foJ",
        "colab_type": "text"
      },
      "source": [
        "# Join all dataframes"
      ]
    },
    {
      "cell_type": "code",
      "metadata": {
        "id": "hA21xQXNYjXt",
        "colab_type": "code",
        "colab": {
          "base_uri": "https://localhost:8080/",
          "height": 227
        },
        "outputId": "ca06833a-3228-409f-c44e-3acc0c440dc1"
      },
      "source": [
        "merged_WTI_WCS = WTI_prices.join(WCS_prices)\n",
        "merged_WTI_WCS_NatGas = merged_WTI_WCS.join(NatGas_prices)\n",
        "\n",
        "merged_WTI_WCS_NatGas.tail()"
      ],
      "execution_count": null,
      "outputs": [
        {
          "output_type": "execute_result",
          "data": {
            "text/html": [
              "<div>\n",
              "<style scoped>\n",
              "    .dataframe tbody tr th:only-of-type {\n",
              "        vertical-align: middle;\n",
              "    }\n",
              "\n",
              "    .dataframe tbody tr th {\n",
              "        vertical-align: top;\n",
              "    }\n",
              "\n",
              "    .dataframe thead th {\n",
              "        text-align: right;\n",
              "    }\n",
              "</style>\n",
              "<table border=\"1\" class=\"dataframe\">\n",
              "  <thead>\n",
              "    <tr style=\"text-align: right;\">\n",
              "      <th></th>\n",
              "      <th>WTI_Price($US/bbl)</th>\n",
              "      <th>WCS_Price($US/bbl)</th>\n",
              "      <th>NatGas_Price($CDN/GJ)</th>\n",
              "    </tr>\n",
              "    <tr>\n",
              "      <th>Date</th>\n",
              "      <th></th>\n",
              "      <th></th>\n",
              "      <th></th>\n",
              "    </tr>\n",
              "  </thead>\n",
              "  <tbody>\n",
              "    <tr>\n",
              "      <th>2020-03-01</th>\n",
              "      <td>29.21</td>\n",
              "      <td>12.84</td>\n",
              "      <td>1.60</td>\n",
              "    </tr>\n",
              "    <tr>\n",
              "      <th>2020-04-01</th>\n",
              "      <td>16.55</td>\n",
              "      <td>3.50</td>\n",
              "      <td>1.56</td>\n",
              "    </tr>\n",
              "    <tr>\n",
              "      <th>2020-05-01</th>\n",
              "      <td>28.56</td>\n",
              "      <td>11.67</td>\n",
              "      <td>1.66</td>\n",
              "    </tr>\n",
              "    <tr>\n",
              "      <th>2020-06-01</th>\n",
              "      <td>38.31</td>\n",
              "      <td>33.97</td>\n",
              "      <td>1.65</td>\n",
              "    </tr>\n",
              "    <tr>\n",
              "      <th>2020-07-01</th>\n",
              "      <td>40.71</td>\n",
              "      <td>32.50</td>\n",
              "      <td>NaN</td>\n",
              "    </tr>\n",
              "  </tbody>\n",
              "</table>\n",
              "</div>"
            ],
            "text/plain": [
              "            WTI_Price($US/bbl)  WCS_Price($US/bbl)  NatGas_Price($CDN/GJ)\n",
              "Date                                                                     \n",
              "2020-03-01               29.21               12.84                   1.60\n",
              "2020-04-01               16.55                3.50                   1.56\n",
              "2020-05-01               28.56               11.67                   1.66\n",
              "2020-06-01               38.31               33.97                   1.65\n",
              "2020-07-01               40.71               32.50                    NaN"
            ]
          },
          "metadata": {
            "tags": []
          },
          "execution_count": 79
        }
      ]
    },
    {
      "cell_type": "code",
      "metadata": {
        "id": "YSAoHeL6cUJA",
        "colab_type": "code",
        "colab": {
          "base_uri": "https://localhost:8080/",
          "height": 194
        },
        "outputId": "2ac61cc8-e1a5-40f0-b863-02e38a9ea8e6"
      },
      "source": [
        "merged_WTI_WCS_NatGas.info()"
      ],
      "execution_count": null,
      "outputs": [
        {
          "output_type": "stream",
          "text": [
            "<class 'pandas.core.frame.DataFrame'>\n",
            "DatetimeIndex: 448 entries, 1983-04-01 to 2020-07-01\n",
            "Data columns (total 3 columns):\n",
            " #   Column                 Non-Null Count  Dtype  \n",
            "---  ------                 --------------  -----  \n",
            " 0   WTI_Price($US/bbl)     448 non-null    float64\n",
            " 1   WCS_Price($US/bbl)     187 non-null    float64\n",
            " 2   NatGas_Price($CDN/GJ)  390 non-null    float64\n",
            "dtypes: float64(3)\n",
            "memory usage: 34.0 KB\n"
          ],
          "name": "stdout"
        }
      ]
    },
    {
      "cell_type": "markdown",
      "metadata": {
        "id": "tD19ucs9YeXL",
        "colab_type": "text"
      },
      "source": [
        "# Download Modified Dataset "
      ]
    },
    {
      "cell_type": "code",
      "metadata": {
        "id": "hfQDE8PSxM7u",
        "colab_type": "code",
        "colab": {
          "base_uri": "https://localhost:8080/",
          "height": 16
        },
        "outputId": "cc432041-372a-4c73-dddb-0aedeca98b42"
      },
      "source": [
        "merged_WTI_WCS_NatGas.to_csv(\"WTI_WCS_NatGas_Prices.csv\", sep=\",\", index=True)\n",
        "files.download(\"WTI_WCS_NatGas_Prices.csv\")"
      ],
      "execution_count": null,
      "outputs": [
        {
          "output_type": "display_data",
          "data": {
            "application/javascript": [
              "\n",
              "    async function download(id, filename, size) {\n",
              "      if (!google.colab.kernel.accessAllowed) {\n",
              "        return;\n",
              "      }\n",
              "      const div = document.createElement('div');\n",
              "      const label = document.createElement('label');\n",
              "      label.textContent = `Downloading \"${filename}\": `;\n",
              "      div.appendChild(label);\n",
              "      const progress = document.createElement('progress');\n",
              "      progress.max = size;\n",
              "      div.appendChild(progress);\n",
              "      document.body.appendChild(div);\n",
              "\n",
              "      const buffers = [];\n",
              "      let downloaded = 0;\n",
              "\n",
              "      const channel = await google.colab.kernel.comms.open(id);\n",
              "      // Send a message to notify the kernel that we're ready.\n",
              "      channel.send({})\n",
              "\n",
              "      for await (const message of channel.messages) {\n",
              "        // Send a message to notify the kernel that we're ready.\n",
              "        channel.send({})\n",
              "        if (message.buffers) {\n",
              "          for (const buffer of message.buffers) {\n",
              "            buffers.push(buffer);\n",
              "            downloaded += buffer.byteLength;\n",
              "            progress.value = downloaded;\n",
              "          }\n",
              "        }\n",
              "      }\n",
              "      const blob = new Blob(buffers, {type: 'application/binary'});\n",
              "      const a = document.createElement('a');\n",
              "      a.href = window.URL.createObjectURL(blob);\n",
              "      a.download = filename;\n",
              "      div.appendChild(a);\n",
              "      a.click();\n",
              "      div.remove();\n",
              "    }\n",
              "  "
            ],
            "text/plain": [
              "<IPython.core.display.Javascript object>"
            ]
          },
          "metadata": {
            "tags": []
          }
        },
        {
          "output_type": "display_data",
          "data": {
            "application/javascript": [
              "download(\"download_941a67cc-276b-4945-8925-1196f78ca735\", \"WTI_WCS_NatGas_Prices.csv\", 10998)"
            ],
            "text/plain": [
              "<IPython.core.display.Javascript object>"
            ]
          },
          "metadata": {
            "tags": []
          }
        }
      ]
    }
  ]
}